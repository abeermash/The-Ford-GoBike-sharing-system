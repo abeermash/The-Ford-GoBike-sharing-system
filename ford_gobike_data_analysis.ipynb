{
 "cells": [
  {
   "cell_type": "markdown",
   "metadata": {},
   "source": [
    "# Visualizing the Ford gobike system "
   ]
  },
  {
   "cell_type": "markdown",
   "metadata": {},
   "source": [
    "## 1- Gather data"
   ]
  },
  {
   "cell_type": "markdown",
   "metadata": {},
   "source": [
    "#### Gathering data localy after downloading it from the website provided by udacity , I choose the Ford go bike sharing system files from the january until May of 2019 ."
   ]
  },
  {
   "cell_type": "code",
   "execution_count": 28,
   "metadata": {},
   "outputs": [],
   "source": [
    "# prerequisite package imports\n",
    "import numpy as np\n",
    "import pandas as pd\n",
    "import matplotlib.pyplot as plt\n",
    "import seaborn as sb\n",
    "import seaborn as sns\n",
    "%matplotlib inline\n",
    "import datetime\n",
    "import time\n",
    "import warnings\n",
    "warnings.filterwarnings('ignore')"
   ]
  },
  {
   "cell_type": "code",
   "execution_count": 29,
   "metadata": {},
   "outputs": [],
   "source": [
    "#Read data locally form monthe 1 to 5 of 2019 \n",
    "data1 = pd.read_csv('201901-fordgobike-tripdata.csv')\n",
    "data2 = pd.read_csv('201902-fordgobike-tripdata.csv')\n",
    "data3 = pd.read_csv('201903-fordgobike-tripdata.csv')\n",
    "data4 = pd.read_csv('201904-fordgobike-tripdata.csv')\n",
    "data5 = pd.read_csv('201905-baywheels-tripdata.csv')"
   ]
  },
  {
   "cell_type": "markdown",
   "metadata": {},
   "source": [
    "## 2- Assessing data"
   ]
  },
  {
   "cell_type": "code",
   "execution_count": 30,
   "metadata": {},
   "outputs": [
    {
     "data": {
      "text/html": [
       "<div>\n",
       "<style scoped>\n",
       "    .dataframe tbody tr th:only-of-type {\n",
       "        vertical-align: middle;\n",
       "    }\n",
       "\n",
       "    .dataframe tbody tr th {\n",
       "        vertical-align: top;\n",
       "    }\n",
       "\n",
       "    .dataframe thead th {\n",
       "        text-align: right;\n",
       "    }\n",
       "</style>\n",
       "<table border=\"1\" class=\"dataframe\">\n",
       "  <thead>\n",
       "    <tr style=\"text-align: right;\">\n",
       "      <th></th>\n",
       "      <th>duration_sec</th>\n",
       "      <th>start_time</th>\n",
       "      <th>end_time</th>\n",
       "      <th>start_station_id</th>\n",
       "      <th>start_station_name</th>\n",
       "      <th>start_station_latitude</th>\n",
       "      <th>start_station_longitude</th>\n",
       "      <th>end_station_id</th>\n",
       "      <th>end_station_name</th>\n",
       "      <th>end_station_latitude</th>\n",
       "      <th>end_station_longitude</th>\n",
       "      <th>bike_id</th>\n",
       "      <th>user_type</th>\n",
       "      <th>member_birth_year</th>\n",
       "      <th>member_gender</th>\n",
       "      <th>bike_share_for_all_trip</th>\n",
       "    </tr>\n",
       "  </thead>\n",
       "  <tbody>\n",
       "    <tr>\n",
       "      <th>0</th>\n",
       "      <td>80825</td>\n",
       "      <td>2019-01-31 17:57:44.6130</td>\n",
       "      <td>2019-02-01 16:24:49.8640</td>\n",
       "      <td>229.0</td>\n",
       "      <td>Foothill Blvd at 42nd Ave</td>\n",
       "      <td>37.775745</td>\n",
       "      <td>-122.213037</td>\n",
       "      <td>196.0</td>\n",
       "      <td>Grand Ave at Perkins St</td>\n",
       "      <td>37.808894</td>\n",
       "      <td>-122.25646</td>\n",
       "      <td>4861</td>\n",
       "      <td>Subscriber</td>\n",
       "      <td>1989.0</td>\n",
       "      <td>Male</td>\n",
       "      <td>No</td>\n",
       "    </tr>\n",
       "  </tbody>\n",
       "</table>\n",
       "</div>"
      ],
      "text/plain": [
       "   duration_sec                start_time                  end_time  \\\n",
       "0         80825  2019-01-31 17:57:44.6130  2019-02-01 16:24:49.8640   \n",
       "\n",
       "   start_station_id         start_station_name  start_station_latitude  \\\n",
       "0             229.0  Foothill Blvd at 42nd Ave               37.775745   \n",
       "\n",
       "   start_station_longitude  end_station_id         end_station_name  \\\n",
       "0              -122.213037           196.0  Grand Ave at Perkins St   \n",
       "\n",
       "   end_station_latitude  end_station_longitude  bike_id   user_type  \\\n",
       "0             37.808894             -122.25646     4861  Subscriber   \n",
       "\n",
       "   member_birth_year member_gender bike_share_for_all_trip  \n",
       "0             1989.0          Male                      No  "
      ]
     },
     "execution_count": 30,
     "metadata": {},
     "output_type": "execute_result"
    }
   ],
   "source": [
    "#explore dataset\n",
    "data1.head(1)"
   ]
  },
  {
   "cell_type": "code",
   "execution_count": 5,
   "metadata": {},
   "outputs": [
    {
     "data": {
      "text/html": [
       "<div>\n",
       "<style scoped>\n",
       "    .dataframe tbody tr th:only-of-type {\n",
       "        vertical-align: middle;\n",
       "    }\n",
       "\n",
       "    .dataframe tbody tr th {\n",
       "        vertical-align: top;\n",
       "    }\n",
       "\n",
       "    .dataframe thead th {\n",
       "        text-align: right;\n",
       "    }\n",
       "</style>\n",
       "<table border=\"1\" class=\"dataframe\">\n",
       "  <thead>\n",
       "    <tr style=\"text-align: right;\">\n",
       "      <th></th>\n",
       "      <th>duration_sec</th>\n",
       "      <th>start_time</th>\n",
       "      <th>end_time</th>\n",
       "      <th>start_station_id</th>\n",
       "      <th>start_station_name</th>\n",
       "      <th>start_station_latitude</th>\n",
       "      <th>start_station_longitude</th>\n",
       "      <th>end_station_id</th>\n",
       "      <th>end_station_name</th>\n",
       "      <th>end_station_latitude</th>\n",
       "      <th>end_station_longitude</th>\n",
       "      <th>bike_id</th>\n",
       "      <th>user_type</th>\n",
       "      <th>member_birth_year</th>\n",
       "      <th>member_gender</th>\n",
       "      <th>bike_share_for_all_trip</th>\n",
       "    </tr>\n",
       "  </thead>\n",
       "  <tbody>\n",
       "    <tr>\n",
       "      <th>0</th>\n",
       "      <td>52185</td>\n",
       "      <td>2019-02-28 17:32:10.1450</td>\n",
       "      <td>2019-03-01 08:01:55.9750</td>\n",
       "      <td>21.0</td>\n",
       "      <td>Montgomery St BART Station (Market St at 2nd St)</td>\n",
       "      <td>37.789625</td>\n",
       "      <td>-122.400811</td>\n",
       "      <td>13.0</td>\n",
       "      <td>Commercial St at Montgomery St</td>\n",
       "      <td>37.794231</td>\n",
       "      <td>-122.402923</td>\n",
       "      <td>4902</td>\n",
       "      <td>Customer</td>\n",
       "      <td>1984.0</td>\n",
       "      <td>Male</td>\n",
       "      <td>No</td>\n",
       "    </tr>\n",
       "  </tbody>\n",
       "</table>\n",
       "</div>"
      ],
      "text/plain": [
       "   duration_sec                start_time                  end_time  \\\n",
       "0         52185  2019-02-28 17:32:10.1450  2019-03-01 08:01:55.9750   \n",
       "\n",
       "   start_station_id                                start_station_name  \\\n",
       "0              21.0  Montgomery St BART Station (Market St at 2nd St)   \n",
       "\n",
       "   start_station_latitude  start_station_longitude  end_station_id  \\\n",
       "0               37.789625              -122.400811            13.0   \n",
       "\n",
       "                 end_station_name  end_station_latitude  \\\n",
       "0  Commercial St at Montgomery St             37.794231   \n",
       "\n",
       "   end_station_longitude  bike_id user_type  member_birth_year member_gender  \\\n",
       "0            -122.402923     4902  Customer             1984.0          Male   \n",
       "\n",
       "  bike_share_for_all_trip  \n",
       "0                      No  "
      ]
     },
     "execution_count": 5,
     "metadata": {},
     "output_type": "execute_result"
    }
   ],
   "source": [
    "data2.head(1)"
   ]
  },
  {
   "cell_type": "code",
   "execution_count": 6,
   "metadata": {},
   "outputs": [
    {
     "data": {
      "text/html": [
       "<div>\n",
       "<style scoped>\n",
       "    .dataframe tbody tr th:only-of-type {\n",
       "        vertical-align: middle;\n",
       "    }\n",
       "\n",
       "    .dataframe tbody tr th {\n",
       "        vertical-align: top;\n",
       "    }\n",
       "\n",
       "    .dataframe thead th {\n",
       "        text-align: right;\n",
       "    }\n",
       "</style>\n",
       "<table border=\"1\" class=\"dataframe\">\n",
       "  <thead>\n",
       "    <tr style=\"text-align: right;\">\n",
       "      <th></th>\n",
       "      <th>duration_sec</th>\n",
       "      <th>start_time</th>\n",
       "      <th>end_time</th>\n",
       "      <th>start_station_id</th>\n",
       "      <th>start_station_name</th>\n",
       "      <th>start_station_latitude</th>\n",
       "      <th>start_station_longitude</th>\n",
       "      <th>end_station_id</th>\n",
       "      <th>end_station_name</th>\n",
       "      <th>end_station_latitude</th>\n",
       "      <th>end_station_longitude</th>\n",
       "      <th>bike_id</th>\n",
       "      <th>user_type</th>\n",
       "      <th>member_birth_year</th>\n",
       "      <th>member_gender</th>\n",
       "      <th>bike_share_for_all_trip</th>\n",
       "    </tr>\n",
       "  </thead>\n",
       "  <tbody>\n",
       "    <tr>\n",
       "      <th>0</th>\n",
       "      <td>53588</td>\n",
       "      <td>2019-03-31 20:59:21.8780</td>\n",
       "      <td>2019-04-01 11:52:30.2000</td>\n",
       "      <td>377.0</td>\n",
       "      <td>Fell St at Stanyan St</td>\n",
       "      <td>37.771917</td>\n",
       "      <td>-122.453704</td>\n",
       "      <td>377.0</td>\n",
       "      <td>Fell St at Stanyan St</td>\n",
       "      <td>37.771917</td>\n",
       "      <td>-122.453704</td>\n",
       "      <td>6803</td>\n",
       "      <td>Subscriber</td>\n",
       "      <td>1980.0</td>\n",
       "      <td>Other</td>\n",
       "      <td>No</td>\n",
       "    </tr>\n",
       "  </tbody>\n",
       "</table>\n",
       "</div>"
      ],
      "text/plain": [
       "   duration_sec                start_time                  end_time  \\\n",
       "0         53588  2019-03-31 20:59:21.8780  2019-04-01 11:52:30.2000   \n",
       "\n",
       "   start_station_id     start_station_name  start_station_latitude  \\\n",
       "0             377.0  Fell St at Stanyan St               37.771917   \n",
       "\n",
       "   start_station_longitude  end_station_id       end_station_name  \\\n",
       "0              -122.453704           377.0  Fell St at Stanyan St   \n",
       "\n",
       "   end_station_latitude  end_station_longitude  bike_id   user_type  \\\n",
       "0             37.771917            -122.453704     6803  Subscriber   \n",
       "\n",
       "   member_birth_year member_gender bike_share_for_all_trip  \n",
       "0             1980.0         Other                      No  "
      ]
     },
     "execution_count": 6,
     "metadata": {},
     "output_type": "execute_result"
    }
   ],
   "source": [
    "data3.head(1)"
   ]
  },
  {
   "cell_type": "code",
   "execution_count": 7,
   "metadata": {},
   "outputs": [
    {
     "data": {
      "text/html": [
       "<div>\n",
       "<style scoped>\n",
       "    .dataframe tbody tr th:only-of-type {\n",
       "        vertical-align: middle;\n",
       "    }\n",
       "\n",
       "    .dataframe tbody tr th {\n",
       "        vertical-align: top;\n",
       "    }\n",
       "\n",
       "    .dataframe thead th {\n",
       "        text-align: right;\n",
       "    }\n",
       "</style>\n",
       "<table border=\"1\" class=\"dataframe\">\n",
       "  <thead>\n",
       "    <tr style=\"text-align: right;\">\n",
       "      <th></th>\n",
       "      <th>duration_sec</th>\n",
       "      <th>start_time</th>\n",
       "      <th>end_time</th>\n",
       "      <th>start_station_id</th>\n",
       "      <th>start_station_name</th>\n",
       "      <th>start_station_latitude</th>\n",
       "      <th>start_station_longitude</th>\n",
       "      <th>end_station_id</th>\n",
       "      <th>end_station_name</th>\n",
       "      <th>end_station_latitude</th>\n",
       "      <th>end_station_longitude</th>\n",
       "      <th>bike_id</th>\n",
       "      <th>user_type</th>\n",
       "      <th>member_birth_year</th>\n",
       "      <th>member_gender</th>\n",
       "      <th>bike_share_for_all_trip</th>\n",
       "    </tr>\n",
       "  </thead>\n",
       "  <tbody>\n",
       "    <tr>\n",
       "      <th>0</th>\n",
       "      <td>50305</td>\n",
       "      <td>2019-04-30 22:33:55.1550</td>\n",
       "      <td>2019-05-01 12:32:20.4540</td>\n",
       "      <td>368.0</td>\n",
       "      <td>Myrtle St at Polk St</td>\n",
       "      <td>37.785434</td>\n",
       "      <td>-122.419622</td>\n",
       "      <td>324.0</td>\n",
       "      <td>Union Square (Powell St at Post St)</td>\n",
       "      <td>37.7883</td>\n",
       "      <td>-122.408531</td>\n",
       "      <td>2749</td>\n",
       "      <td>Subscriber</td>\n",
       "      <td>1989.0</td>\n",
       "      <td>Female</td>\n",
       "      <td>No</td>\n",
       "    </tr>\n",
       "  </tbody>\n",
       "</table>\n",
       "</div>"
      ],
      "text/plain": [
       "   duration_sec                start_time                  end_time  \\\n",
       "0         50305  2019-04-30 22:33:55.1550  2019-05-01 12:32:20.4540   \n",
       "\n",
       "   start_station_id    start_station_name  start_station_latitude  \\\n",
       "0             368.0  Myrtle St at Polk St               37.785434   \n",
       "\n",
       "   start_station_longitude  end_station_id  \\\n",
       "0              -122.419622           324.0   \n",
       "\n",
       "                      end_station_name  end_station_latitude  \\\n",
       "0  Union Square (Powell St at Post St)               37.7883   \n",
       "\n",
       "   end_station_longitude  bike_id   user_type  member_birth_year  \\\n",
       "0            -122.408531     2749  Subscriber             1989.0   \n",
       "\n",
       "  member_gender bike_share_for_all_trip  \n",
       "0        Female                      No  "
      ]
     },
     "execution_count": 7,
     "metadata": {},
     "output_type": "execute_result"
    }
   ],
   "source": [
    "data4.head(1)"
   ]
  },
  {
   "cell_type": "code",
   "execution_count": 8,
   "metadata": {},
   "outputs": [
    {
     "data": {
      "text/html": [
       "<div>\n",
       "<style scoped>\n",
       "    .dataframe tbody tr th:only-of-type {\n",
       "        vertical-align: middle;\n",
       "    }\n",
       "\n",
       "    .dataframe tbody tr th {\n",
       "        vertical-align: top;\n",
       "    }\n",
       "\n",
       "    .dataframe thead th {\n",
       "        text-align: right;\n",
       "    }\n",
       "</style>\n",
       "<table border=\"1\" class=\"dataframe\">\n",
       "  <thead>\n",
       "    <tr style=\"text-align: right;\">\n",
       "      <th></th>\n",
       "      <th>duration_sec</th>\n",
       "      <th>start_time</th>\n",
       "      <th>end_time</th>\n",
       "      <th>start_station_id</th>\n",
       "      <th>start_station_name</th>\n",
       "      <th>start_station_latitude</th>\n",
       "      <th>start_station_longitude</th>\n",
       "      <th>end_station_id</th>\n",
       "      <th>end_station_name</th>\n",
       "      <th>end_station_latitude</th>\n",
       "      <th>end_station_longitude</th>\n",
       "      <th>bike_id</th>\n",
       "      <th>user_type</th>\n",
       "      <th>member_birth_year</th>\n",
       "      <th>member_gender</th>\n",
       "      <th>bike_share_for_all_trip</th>\n",
       "    </tr>\n",
       "  </thead>\n",
       "  <tbody>\n",
       "    <tr>\n",
       "      <th>0</th>\n",
       "      <td>48877</td>\n",
       "      <td>2019-05-31 20:34:56.8110</td>\n",
       "      <td>2019-06-01 10:09:34.7960</td>\n",
       "      <td>321.0</td>\n",
       "      <td>5th St at Folsom</td>\n",
       "      <td>37.780146</td>\n",
       "      <td>-122.403071</td>\n",
       "      <td>60.0</td>\n",
       "      <td>8th St at Ringold St</td>\n",
       "      <td>37.77452</td>\n",
       "      <td>-122.409449</td>\n",
       "      <td>1416</td>\n",
       "      <td>Customer</td>\n",
       "      <td>1990.0</td>\n",
       "      <td>Female</td>\n",
       "      <td>No</td>\n",
       "    </tr>\n",
       "  </tbody>\n",
       "</table>\n",
       "</div>"
      ],
      "text/plain": [
       "   duration_sec                start_time                  end_time  \\\n",
       "0         48877  2019-05-31 20:34:56.8110  2019-06-01 10:09:34.7960   \n",
       "\n",
       "   start_station_id start_station_name  start_station_latitude  \\\n",
       "0             321.0   5th St at Folsom               37.780146   \n",
       "\n",
       "   start_station_longitude  end_station_id      end_station_name  \\\n",
       "0              -122.403071            60.0  8th St at Ringold St   \n",
       "\n",
       "   end_station_latitude  end_station_longitude  bike_id user_type  \\\n",
       "0              37.77452            -122.409449     1416  Customer   \n",
       "\n",
       "   member_birth_year member_gender bike_share_for_all_trip  \n",
       "0             1990.0        Female                      No  "
      ]
     },
     "execution_count": 8,
     "metadata": {},
     "output_type": "execute_result"
    }
   ],
   "source": [
    "data5.head(1)"
   ]
  },
  {
   "cell_type": "code",
   "execution_count": 31,
   "metadata": {},
   "outputs": [
    {
     "data": {
      "text/html": [
       "<div>\n",
       "<style scoped>\n",
       "    .dataframe tbody tr th:only-of-type {\n",
       "        vertical-align: middle;\n",
       "    }\n",
       "\n",
       "    .dataframe tbody tr th {\n",
       "        vertical-align: top;\n",
       "    }\n",
       "\n",
       "    .dataframe thead th {\n",
       "        text-align: right;\n",
       "    }\n",
       "</style>\n",
       "<table border=\"1\" class=\"dataframe\">\n",
       "  <thead>\n",
       "    <tr style=\"text-align: right;\">\n",
       "      <th></th>\n",
       "      <th>duration_sec</th>\n",
       "      <th>start_time</th>\n",
       "      <th>end_time</th>\n",
       "      <th>start_station_id</th>\n",
       "      <th>start_station_name</th>\n",
       "      <th>start_station_latitude</th>\n",
       "      <th>start_station_longitude</th>\n",
       "      <th>end_station_id</th>\n",
       "      <th>end_station_name</th>\n",
       "      <th>end_station_latitude</th>\n",
       "      <th>end_station_longitude</th>\n",
       "      <th>bike_id</th>\n",
       "      <th>user_type</th>\n",
       "      <th>member_birth_year</th>\n",
       "      <th>member_gender</th>\n",
       "      <th>bike_share_for_all_trip</th>\n",
       "    </tr>\n",
       "  </thead>\n",
       "  <tbody>\n",
       "    <tr>\n",
       "      <th>0</th>\n",
       "      <td>80825</td>\n",
       "      <td>2019-01-31 17:57:44.6130</td>\n",
       "      <td>2019-02-01 16:24:49.8640</td>\n",
       "      <td>229.0</td>\n",
       "      <td>Foothill Blvd at 42nd Ave</td>\n",
       "      <td>37.775745</td>\n",
       "      <td>-122.213037</td>\n",
       "      <td>196.0</td>\n",
       "      <td>Grand Ave at Perkins St</td>\n",
       "      <td>37.808894</td>\n",
       "      <td>-122.256460</td>\n",
       "      <td>4861</td>\n",
       "      <td>Subscriber</td>\n",
       "      <td>1989.0</td>\n",
       "      <td>Male</td>\n",
       "      <td>No</td>\n",
       "    </tr>\n",
       "    <tr>\n",
       "      <th>1</th>\n",
       "      <td>65900</td>\n",
       "      <td>2019-01-31 20:58:33.8860</td>\n",
       "      <td>2019-02-01 15:16:54.1730</td>\n",
       "      <td>4.0</td>\n",
       "      <td>Cyril Magnin St at Ellis St</td>\n",
       "      <td>37.785881</td>\n",
       "      <td>-122.408915</td>\n",
       "      <td>134.0</td>\n",
       "      <td>Valencia St at 24th St</td>\n",
       "      <td>37.752428</td>\n",
       "      <td>-122.420628</td>\n",
       "      <td>5506</td>\n",
       "      <td>Subscriber</td>\n",
       "      <td>1989.0</td>\n",
       "      <td>Male</td>\n",
       "      <td>No</td>\n",
       "    </tr>\n",
       "    <tr>\n",
       "      <th>2</th>\n",
       "      <td>62633</td>\n",
       "      <td>2019-01-31 18:06:52.9240</td>\n",
       "      <td>2019-02-01 11:30:46.5300</td>\n",
       "      <td>245.0</td>\n",
       "      <td>Downtown Berkeley BART</td>\n",
       "      <td>37.870139</td>\n",
       "      <td>-122.268422</td>\n",
       "      <td>157.0</td>\n",
       "      <td>65th St at Hollis St</td>\n",
       "      <td>37.846784</td>\n",
       "      <td>-122.291376</td>\n",
       "      <td>2717</td>\n",
       "      <td>Customer</td>\n",
       "      <td>1965.0</td>\n",
       "      <td>Female</td>\n",
       "      <td>No</td>\n",
       "    </tr>\n",
       "    <tr>\n",
       "      <th>3</th>\n",
       "      <td>44680</td>\n",
       "      <td>2019-01-31 19:46:09.7190</td>\n",
       "      <td>2019-02-01 08:10:50.3180</td>\n",
       "      <td>85.0</td>\n",
       "      <td>Church St at Duboce Ave</td>\n",
       "      <td>37.770083</td>\n",
       "      <td>-122.429156</td>\n",
       "      <td>53.0</td>\n",
       "      <td>Grove St at Divisadero</td>\n",
       "      <td>37.775946</td>\n",
       "      <td>-122.437777</td>\n",
       "      <td>4557</td>\n",
       "      <td>Customer</td>\n",
       "      <td>1974.0</td>\n",
       "      <td>Male</td>\n",
       "      <td>No</td>\n",
       "    </tr>\n",
       "    <tr>\n",
       "      <th>4</th>\n",
       "      <td>60709</td>\n",
       "      <td>2019-01-31 14:19:01.5410</td>\n",
       "      <td>2019-02-01 07:10:51.0650</td>\n",
       "      <td>16.0</td>\n",
       "      <td>Steuart St at Market St</td>\n",
       "      <td>37.794130</td>\n",
       "      <td>-122.394430</td>\n",
       "      <td>28.0</td>\n",
       "      <td>The Embarcadero at Bryant St</td>\n",
       "      <td>37.787168</td>\n",
       "      <td>-122.388098</td>\n",
       "      <td>2100</td>\n",
       "      <td>Customer</td>\n",
       "      <td>NaN</td>\n",
       "      <td>NaN</td>\n",
       "      <td>No</td>\n",
       "    </tr>\n",
       "  </tbody>\n",
       "</table>\n",
       "</div>"
      ],
      "text/plain": [
       "   duration_sec                start_time                  end_time  \\\n",
       "0         80825  2019-01-31 17:57:44.6130  2019-02-01 16:24:49.8640   \n",
       "1         65900  2019-01-31 20:58:33.8860  2019-02-01 15:16:54.1730   \n",
       "2         62633  2019-01-31 18:06:52.9240  2019-02-01 11:30:46.5300   \n",
       "3         44680  2019-01-31 19:46:09.7190  2019-02-01 08:10:50.3180   \n",
       "4         60709  2019-01-31 14:19:01.5410  2019-02-01 07:10:51.0650   \n",
       "\n",
       "   start_station_id           start_station_name  start_station_latitude  \\\n",
       "0             229.0    Foothill Blvd at 42nd Ave               37.775745   \n",
       "1               4.0  Cyril Magnin St at Ellis St               37.785881   \n",
       "2             245.0       Downtown Berkeley BART               37.870139   \n",
       "3              85.0      Church St at Duboce Ave               37.770083   \n",
       "4              16.0      Steuart St at Market St               37.794130   \n",
       "\n",
       "   start_station_longitude  end_station_id              end_station_name  \\\n",
       "0              -122.213037           196.0       Grand Ave at Perkins St   \n",
       "1              -122.408915           134.0        Valencia St at 24th St   \n",
       "2              -122.268422           157.0          65th St at Hollis St   \n",
       "3              -122.429156            53.0        Grove St at Divisadero   \n",
       "4              -122.394430            28.0  The Embarcadero at Bryant St   \n",
       "\n",
       "   end_station_latitude  end_station_longitude  bike_id   user_type  \\\n",
       "0             37.808894            -122.256460     4861  Subscriber   \n",
       "1             37.752428            -122.420628     5506  Subscriber   \n",
       "2             37.846784            -122.291376     2717    Customer   \n",
       "3             37.775946            -122.437777     4557    Customer   \n",
       "4             37.787168            -122.388098     2100    Customer   \n",
       "\n",
       "   member_birth_year member_gender bike_share_for_all_trip  \n",
       "0             1989.0          Male                      No  \n",
       "1             1989.0          Male                      No  \n",
       "2             1965.0        Female                      No  \n",
       "3             1974.0          Male                      No  \n",
       "4                NaN           NaN                      No  "
      ]
     },
     "execution_count": 31,
     "metadata": {},
     "output_type": "execute_result"
    }
   ],
   "source": [
    "#combine all datasets in one\n",
    "fordgobike_2019 = data1.append([data2,data3,data4,data5])\n",
    "fordgobike_2019.head()"
   ]
  },
  {
   "cell_type": "code",
   "execution_count": 32,
   "metadata": {},
   "outputs": [
    {
     "data": {
      "text/plain": [
       "(1053067, 16)"
      ]
     },
     "execution_count": 32,
     "metadata": {},
     "output_type": "execute_result"
    }
   ],
   "source": [
    "fordgobike_2019.shape"
   ]
  },
  {
   "cell_type": "code",
   "execution_count": 33,
   "metadata": {},
   "outputs": [
    {
     "data": {
      "text/html": [
       "<div>\n",
       "<style scoped>\n",
       "    .dataframe tbody tr th:only-of-type {\n",
       "        vertical-align: middle;\n",
       "    }\n",
       "\n",
       "    .dataframe tbody tr th {\n",
       "        vertical-align: top;\n",
       "    }\n",
       "\n",
       "    .dataframe thead th {\n",
       "        text-align: right;\n",
       "    }\n",
       "</style>\n",
       "<table border=\"1\" class=\"dataframe\">\n",
       "  <thead>\n",
       "    <tr style=\"text-align: right;\">\n",
       "      <th></th>\n",
       "      <th>duration_sec</th>\n",
       "      <th>start_station_id</th>\n",
       "      <th>start_station_latitude</th>\n",
       "      <th>start_station_longitude</th>\n",
       "      <th>end_station_id</th>\n",
       "      <th>end_station_latitude</th>\n",
       "      <th>end_station_longitude</th>\n",
       "      <th>bike_id</th>\n",
       "      <th>member_birth_year</th>\n",
       "    </tr>\n",
       "  </thead>\n",
       "  <tbody>\n",
       "    <tr>\n",
       "      <th>count</th>\n",
       "      <td>1.053067e+06</td>\n",
       "      <td>1.052322e+06</td>\n",
       "      <td>1.053067e+06</td>\n",
       "      <td>1.053067e+06</td>\n",
       "      <td>1.052322e+06</td>\n",
       "      <td>1.053067e+06</td>\n",
       "      <td>1.053067e+06</td>\n",
       "      <td>1.053067e+06</td>\n",
       "      <td>1.003691e+06</td>\n",
       "    </tr>\n",
       "    <tr>\n",
       "      <th>mean</th>\n",
       "      <td>7.793630e+02</td>\n",
       "      <td>1.394330e+02</td>\n",
       "      <td>3.777006e+01</td>\n",
       "      <td>-1.223534e+02</td>\n",
       "      <td>1.378195e+02</td>\n",
       "      <td>3.776961e+01</td>\n",
       "      <td>-1.223510e+02</td>\n",
       "      <td>3.883042e+03</td>\n",
       "      <td>1.984671e+03</td>\n",
       "    </tr>\n",
       "    <tr>\n",
       "      <th>std</th>\n",
       "      <td>1.891006e+03</td>\n",
       "      <td>1.143622e+02</td>\n",
       "      <td>1.069203e-01</td>\n",
       "      <td>1.676838e-01</td>\n",
       "      <td>1.142789e+02</td>\n",
       "      <td>1.855866e-01</td>\n",
       "      <td>5.193068e-01</td>\n",
       "      <td>1.974972e+03</td>\n",
       "      <td>1.010330e+01</td>\n",
       "    </tr>\n",
       "    <tr>\n",
       "      <th>min</th>\n",
       "      <td>6.100000e+01</td>\n",
       "      <td>3.000000e+00</td>\n",
       "      <td>0.000000e+00</td>\n",
       "      <td>-1.224537e+02</td>\n",
       "      <td>3.000000e+00</td>\n",
       "      <td>0.000000e+00</td>\n",
       "      <td>-1.224537e+02</td>\n",
       "      <td>1.100000e+01</td>\n",
       "      <td>1.878000e+03</td>\n",
       "    </tr>\n",
       "    <tr>\n",
       "      <th>25%</th>\n",
       "      <td>3.400000e+02</td>\n",
       "      <td>4.400000e+01</td>\n",
       "      <td>3.777008e+01</td>\n",
       "      <td>-1.224130e+02</td>\n",
       "      <td>4.400000e+01</td>\n",
       "      <td>3.777041e+01</td>\n",
       "      <td>-1.224117e+02</td>\n",
       "      <td>2.165000e+03</td>\n",
       "      <td>1.980000e+03</td>\n",
       "    </tr>\n",
       "    <tr>\n",
       "      <th>50%</th>\n",
       "      <td>5.420000e+02</td>\n",
       "      <td>1.020000e+02</td>\n",
       "      <td>3.778076e+01</td>\n",
       "      <td>-1.223984e+02</td>\n",
       "      <td>1.000000e+02</td>\n",
       "      <td>3.778095e+01</td>\n",
       "      <td>-1.223983e+02</td>\n",
       "      <td>4.549000e+03</td>\n",
       "      <td>1.987000e+03</td>\n",
       "    </tr>\n",
       "    <tr>\n",
       "      <th>75%</th>\n",
       "      <td>8.480000e+02</td>\n",
       "      <td>2.390000e+02</td>\n",
       "      <td>3.779728e+01</td>\n",
       "      <td>-1.222912e+02</td>\n",
       "      <td>2.350000e+02</td>\n",
       "      <td>3.779728e+01</td>\n",
       "      <td>-1.222914e+02</td>\n",
       "      <td>5.428000e+03</td>\n",
       "      <td>1.992000e+03</td>\n",
       "    </tr>\n",
       "    <tr>\n",
       "      <th>max</th>\n",
       "      <td>8.611400e+04</td>\n",
       "      <td>4.270000e+02</td>\n",
       "      <td>3.788022e+01</td>\n",
       "      <td>0.000000e+00</td>\n",
       "      <td>4.270000e+02</td>\n",
       "      <td>3.788022e+01</td>\n",
       "      <td>0.000000e+00</td>\n",
       "      <td>7.196000e+03</td>\n",
       "      <td>2.001000e+03</td>\n",
       "    </tr>\n",
       "  </tbody>\n",
       "</table>\n",
       "</div>"
      ],
      "text/plain": [
       "       duration_sec  start_station_id  start_station_latitude  \\\n",
       "count  1.053067e+06      1.052322e+06            1.053067e+06   \n",
       "mean   7.793630e+02      1.394330e+02            3.777006e+01   \n",
       "std    1.891006e+03      1.143622e+02            1.069203e-01   \n",
       "min    6.100000e+01      3.000000e+00            0.000000e+00   \n",
       "25%    3.400000e+02      4.400000e+01            3.777008e+01   \n",
       "50%    5.420000e+02      1.020000e+02            3.778076e+01   \n",
       "75%    8.480000e+02      2.390000e+02            3.779728e+01   \n",
       "max    8.611400e+04      4.270000e+02            3.788022e+01   \n",
       "\n",
       "       start_station_longitude  end_station_id  end_station_latitude  \\\n",
       "count             1.053067e+06    1.052322e+06          1.053067e+06   \n",
       "mean             -1.223534e+02    1.378195e+02          3.776961e+01   \n",
       "std               1.676838e-01    1.142789e+02          1.855866e-01   \n",
       "min              -1.224537e+02    3.000000e+00          0.000000e+00   \n",
       "25%              -1.224130e+02    4.400000e+01          3.777041e+01   \n",
       "50%              -1.223984e+02    1.000000e+02          3.778095e+01   \n",
       "75%              -1.222912e+02    2.350000e+02          3.779728e+01   \n",
       "max               0.000000e+00    4.270000e+02          3.788022e+01   \n",
       "\n",
       "       end_station_longitude       bike_id  member_birth_year  \n",
       "count           1.053067e+06  1.053067e+06       1.003691e+06  \n",
       "mean           -1.223510e+02  3.883042e+03       1.984671e+03  \n",
       "std             5.193068e-01  1.974972e+03       1.010330e+01  \n",
       "min            -1.224537e+02  1.100000e+01       1.878000e+03  \n",
       "25%            -1.224117e+02  2.165000e+03       1.980000e+03  \n",
       "50%            -1.223983e+02  4.549000e+03       1.987000e+03  \n",
       "75%            -1.222914e+02  5.428000e+03       1.992000e+03  \n",
       "max             0.000000e+00  7.196000e+03       2.001000e+03  "
      ]
     },
     "execution_count": 33,
     "metadata": {},
     "output_type": "execute_result"
    }
   ],
   "source": [
    "# View descriptive statistics of the dataframe\n",
    "fordgobike_2019.describe()"
   ]
  },
  {
   "cell_type": "code",
   "execution_count": 34,
   "metadata": {},
   "outputs": [
    {
     "data": {
      "text/plain": [
       "0"
      ]
     },
     "execution_count": 34,
     "metadata": {},
     "output_type": "execute_result"
    }
   ],
   "source": [
    "#check duplicat\n",
    "fordgobike_2019.duplicated().sum()"
   ]
  },
  {
   "cell_type": "code",
   "execution_count": 35,
   "metadata": {},
   "outputs": [
    {
     "data": {
      "text/plain": [
       "duration_sec                   0\n",
       "start_time                     0\n",
       "end_time                       0\n",
       "start_station_id             745\n",
       "start_station_name           745\n",
       "start_station_latitude         0\n",
       "start_station_longitude        0\n",
       "end_station_id               745\n",
       "end_station_name             745\n",
       "end_station_latitude           0\n",
       "end_station_longitude          0\n",
       "bike_id                        0\n",
       "user_type                      0\n",
       "member_birth_year          49376\n",
       "member_gender              49370\n",
       "bike_share_for_all_trip        0\n",
       "dtype: int64"
      ]
     },
     "execution_count": 35,
     "metadata": {},
     "output_type": "execute_result"
    }
   ],
   "source": [
    "#check null values \n",
    "fordgobike_2019.isnull().sum()"
   ]
  },
  {
   "cell_type": "code",
   "execution_count": 36,
   "metadata": {},
   "outputs": [
    {
     "name": "stdout",
     "output_type": "stream",
     "text": [
      "<class 'pandas.core.frame.DataFrame'>\n",
      "Int64Index: 1053067 entries, 0 to 182162\n",
      "Data columns (total 16 columns):\n",
      "duration_sec               1053067 non-null int64\n",
      "start_time                 1053067 non-null object\n",
      "end_time                   1053067 non-null object\n",
      "start_station_id           1052322 non-null float64\n",
      "start_station_name         1052322 non-null object\n",
      "start_station_latitude     1053067 non-null float64\n",
      "start_station_longitude    1053067 non-null float64\n",
      "end_station_id             1052322 non-null float64\n",
      "end_station_name           1052322 non-null object\n",
      "end_station_latitude       1053067 non-null float64\n",
      "end_station_longitude      1053067 non-null float64\n",
      "bike_id                    1053067 non-null int64\n",
      "user_type                  1053067 non-null object\n",
      "member_birth_year          1003691 non-null float64\n",
      "member_gender              1003697 non-null object\n",
      "bike_share_for_all_trip    1053067 non-null object\n",
      "dtypes: float64(7), int64(2), object(7)\n",
      "memory usage: 136.6+ MB\n"
     ]
    }
   ],
   "source": [
    "fordgobike_2019.info()"
   ]
  },
  {
   "cell_type": "markdown",
   "metadata": {},
   "source": [
    "#### <bold>Assessment report</bold>\n",
    "\n",
    "*Quality issues:\n",
    "<li>-start_time ,end_time are objects should be timestamps.</li>\n",
    "<li>-user type, member_gender and bike_share_for_all_trip should be category.</li>\n",
    "<li>-start_station_id ,start_station_name ,end_station_id ,end_station_name member birth year and member_gender has null values .</li>\n",
    "<li> -The age of the user more useful information than the year of birth .</li>\n",
    "<li>- Convert duration to minute does not affect the analysis but make it clear for visualization.</li>\n",
    "\n",
    "\n",
    "*Tidiness Issues:\n",
    "<li>-Start_time contain lots of information should be in different columns. </li>\n",
    "\n",
    "  \n"
   ]
  },
  {
   "cell_type": "markdown",
   "metadata": {},
   "source": [
    "## 3-Data Cleaning¶\n"
   ]
  },
  {
   "cell_type": "code",
   "execution_count": 37,
   "metadata": {},
   "outputs": [],
   "source": [
    "# Create copies of original DataFrames\n",
    "fordgobike_2019_clean = fordgobike_2019.copy()"
   ]
  },
  {
   "cell_type": "markdown",
   "metadata": {},
   "source": [
    "#### Define:\n",
    "Set the timestamps and category data type "
   ]
  },
  {
   "cell_type": "markdown",
   "metadata": {},
   "source": [
    "#### Code:"
   ]
  },
  {
   "cell_type": "code",
   "execution_count": 38,
   "metadata": {},
   "outputs": [],
   "source": [
    "# set dates to timestamps\n",
    "fordgobike_2019_clean.start_time = pd.to_datetime(fordgobike_2019_clean.start_time)\n",
    "fordgobike_2019_clean.end_time = pd.to_datetime(fordgobike_2019_clean.end_time)"
   ]
  },
  {
   "cell_type": "code",
   "execution_count": 39,
   "metadata": {},
   "outputs": [],
   "source": [
    "# set user type, gender and bike_share_for_all_trip to category\n",
    "fordgobike_2019_clean.user_type = fordgobike_2019_clean.user_type.astype('category')\n",
    "fordgobike_2019_clean.member_gender = fordgobike_2019_clean.member_gender.astype('category')\n",
    "fordgobike_2019_clean.bike_share_for_all_trip = fordgobike_2019_clean.bike_share_for_all_trip.astype('category')"
   ]
  },
  {
   "cell_type": "code",
   "execution_count": 40,
   "metadata": {},
   "outputs": [
    {
     "name": "stdout",
     "output_type": "stream",
     "text": [
      "<class 'pandas.core.frame.DataFrame'>\n",
      "Int64Index: 1053067 entries, 0 to 182162\n",
      "Data columns (total 16 columns):\n",
      "duration_sec               1053067 non-null int64\n",
      "start_time                 1053067 non-null datetime64[ns]\n",
      "end_time                   1053067 non-null datetime64[ns]\n",
      "start_station_id           1052322 non-null float64\n",
      "start_station_name         1052322 non-null object\n",
      "start_station_latitude     1053067 non-null float64\n",
      "start_station_longitude    1053067 non-null float64\n",
      "end_station_id             1052322 non-null float64\n",
      "end_station_name           1052322 non-null object\n",
      "end_station_latitude       1053067 non-null float64\n",
      "end_station_longitude      1053067 non-null float64\n",
      "bike_id                    1053067 non-null int64\n",
      "user_type                  1053067 non-null category\n",
      "member_birth_year          1003691 non-null float64\n",
      "member_gender              1003697 non-null category\n",
      "bike_share_for_all_trip    1053067 non-null category\n",
      "dtypes: category(3), datetime64[ns](2), float64(7), int64(2), object(2)\n",
      "memory usage: 115.5+ MB\n"
     ]
    }
   ],
   "source": [
    "#Test\n",
    "fordgobike_2019_clean.info()"
   ]
  },
  {
   "cell_type": "markdown",
   "metadata": {},
   "source": [
    "#### Define:\n",
    "Drop data with nan value "
   ]
  },
  {
   "cell_type": "markdown",
   "metadata": {},
   "source": [
    "Code:"
   ]
  },
  {
   "cell_type": "code",
   "execution_count": 41,
   "metadata": {},
   "outputs": [],
   "source": [
    "fordgobike_2019_clean = fordgobike_2019_clean.dropna(subset = ['member_gender','member_birth_year'])"
   ]
  },
  {
   "cell_type": "code",
   "execution_count": 42,
   "metadata": {},
   "outputs": [
    {
     "data": {
      "text/plain": [
       "member_birth_year    0\n",
       "member_gender        0\n",
       "dtype: int64"
      ]
     },
     "execution_count": 42,
     "metadata": {},
     "output_type": "execute_result"
    }
   ],
   "source": [
    "#Test\n",
    "fordgobike_2019_clean.isnull()[['member_birth_year', 'member_gender']].sum()\n"
   ]
  },
  {
   "cell_type": "markdown",
   "metadata": {},
   "source": [
    "#### Define:\n",
    "Calculate the age of the members"
   ]
  },
  {
   "cell_type": "markdown",
   "metadata": {},
   "source": [
    "Code:"
   ]
  },
  {
   "cell_type": "code",
   "execution_count": 43,
   "metadata": {},
   "outputs": [],
   "source": [
    "fordgobike_2019_clean['member_age'] = 2019 -fordgobike_2019_clean['member_birth_year']"
   ]
  },
  {
   "cell_type": "code",
   "execution_count": 44,
   "metadata": {},
   "outputs": [
    {
     "data": {
      "text/html": [
       "<div>\n",
       "<style scoped>\n",
       "    .dataframe tbody tr th:only-of-type {\n",
       "        vertical-align: middle;\n",
       "    }\n",
       "\n",
       "    .dataframe tbody tr th {\n",
       "        vertical-align: top;\n",
       "    }\n",
       "\n",
       "    .dataframe thead th {\n",
       "        text-align: right;\n",
       "    }\n",
       "</style>\n",
       "<table border=\"1\" class=\"dataframe\">\n",
       "  <thead>\n",
       "    <tr style=\"text-align: right;\">\n",
       "      <th></th>\n",
       "      <th>duration_sec</th>\n",
       "      <th>start_time</th>\n",
       "      <th>end_time</th>\n",
       "      <th>start_station_id</th>\n",
       "      <th>start_station_name</th>\n",
       "      <th>start_station_latitude</th>\n",
       "      <th>start_station_longitude</th>\n",
       "      <th>end_station_id</th>\n",
       "      <th>end_station_name</th>\n",
       "      <th>end_station_latitude</th>\n",
       "      <th>end_station_longitude</th>\n",
       "      <th>bike_id</th>\n",
       "      <th>user_type</th>\n",
       "      <th>member_birth_year</th>\n",
       "      <th>member_gender</th>\n",
       "      <th>bike_share_for_all_trip</th>\n",
       "      <th>member_age</th>\n",
       "    </tr>\n",
       "  </thead>\n",
       "  <tbody>\n",
       "    <tr>\n",
       "      <th>0</th>\n",
       "      <td>80825</td>\n",
       "      <td>2019-01-31 17:57:44.613</td>\n",
       "      <td>2019-02-01 16:24:49.864</td>\n",
       "      <td>229.0</td>\n",
       "      <td>Foothill Blvd at 42nd Ave</td>\n",
       "      <td>37.775745</td>\n",
       "      <td>-122.213037</td>\n",
       "      <td>196.0</td>\n",
       "      <td>Grand Ave at Perkins St</td>\n",
       "      <td>37.808894</td>\n",
       "      <td>-122.25646</td>\n",
       "      <td>4861</td>\n",
       "      <td>Subscriber</td>\n",
       "      <td>1989.0</td>\n",
       "      <td>Male</td>\n",
       "      <td>No</td>\n",
       "      <td>30.0</td>\n",
       "    </tr>\n",
       "  </tbody>\n",
       "</table>\n",
       "</div>"
      ],
      "text/plain": [
       "   duration_sec              start_time                end_time  \\\n",
       "0         80825 2019-01-31 17:57:44.613 2019-02-01 16:24:49.864   \n",
       "\n",
       "   start_station_id         start_station_name  start_station_latitude  \\\n",
       "0             229.0  Foothill Blvd at 42nd Ave               37.775745   \n",
       "\n",
       "   start_station_longitude  end_station_id         end_station_name  \\\n",
       "0              -122.213037           196.0  Grand Ave at Perkins St   \n",
       "\n",
       "   end_station_latitude  end_station_longitude  bike_id   user_type  \\\n",
       "0             37.808894             -122.25646     4861  Subscriber   \n",
       "\n",
       "   member_birth_year member_gender bike_share_for_all_trip  member_age  \n",
       "0             1989.0          Male                      No        30.0  "
      ]
     },
     "execution_count": 44,
     "metadata": {},
     "output_type": "execute_result"
    }
   ],
   "source": [
    "#Test\n",
    "fordgobike_2019_clean.head(1)"
   ]
  },
  {
   "cell_type": "markdown",
   "metadata": {},
   "source": [
    "#### Define:\n",
    "Extract month and hours from start_time and convert duration to minute."
   ]
  },
  {
   "cell_type": "markdown",
   "metadata": {},
   "source": [
    "Code:"
   ]
  },
  {
   "cell_type": "code",
   "execution_count": 45,
   "metadata": {},
   "outputs": [],
   "source": [
    "fordgobike_2019_clean ['start_month']=fordgobike_2019_clean ['start_time'].dt.month\n",
    "fordgobike_2019_clean ['start_hour']=fordgobike_2019_clean ['start_time'].dt.hour"
   ]
  },
  {
   "cell_type": "code",
   "execution_count": 46,
   "metadata": {},
   "outputs": [],
   "source": [
    "#convert duration to minute\n",
    "fordgobike_2019_clean['duration_min'] = fordgobike_2019_clean['duration_sec']/60\n",
    "fordgobike_2019_clean['duration_min'] = fordgobike_2019_clean['duration_min'].astype(int)"
   ]
  },
  {
   "cell_type": "code",
   "execution_count": 47,
   "metadata": {},
   "outputs": [
    {
     "data": {
      "text/html": [
       "<div>\n",
       "<style scoped>\n",
       "    .dataframe tbody tr th:only-of-type {\n",
       "        vertical-align: middle;\n",
       "    }\n",
       "\n",
       "    .dataframe tbody tr th {\n",
       "        vertical-align: top;\n",
       "    }\n",
       "\n",
       "    .dataframe thead th {\n",
       "        text-align: right;\n",
       "    }\n",
       "</style>\n",
       "<table border=\"1\" class=\"dataframe\">\n",
       "  <thead>\n",
       "    <tr style=\"text-align: right;\">\n",
       "      <th></th>\n",
       "      <th>duration_sec</th>\n",
       "      <th>start_time</th>\n",
       "      <th>end_time</th>\n",
       "      <th>start_station_id</th>\n",
       "      <th>start_station_name</th>\n",
       "      <th>start_station_latitude</th>\n",
       "      <th>start_station_longitude</th>\n",
       "      <th>end_station_id</th>\n",
       "      <th>end_station_name</th>\n",
       "      <th>end_station_latitude</th>\n",
       "      <th>end_station_longitude</th>\n",
       "      <th>bike_id</th>\n",
       "      <th>user_type</th>\n",
       "      <th>member_birth_year</th>\n",
       "      <th>member_gender</th>\n",
       "      <th>bike_share_for_all_trip</th>\n",
       "      <th>member_age</th>\n",
       "      <th>start_month</th>\n",
       "      <th>start_hour</th>\n",
       "      <th>duration_min</th>\n",
       "    </tr>\n",
       "  </thead>\n",
       "  <tbody>\n",
       "    <tr>\n",
       "      <th>0</th>\n",
       "      <td>80825</td>\n",
       "      <td>2019-01-31 17:57:44.613</td>\n",
       "      <td>2019-02-01 16:24:49.864</td>\n",
       "      <td>229.0</td>\n",
       "      <td>Foothill Blvd at 42nd Ave</td>\n",
       "      <td>37.775745</td>\n",
       "      <td>-122.213037</td>\n",
       "      <td>196.0</td>\n",
       "      <td>Grand Ave at Perkins St</td>\n",
       "      <td>37.808894</td>\n",
       "      <td>-122.25646</td>\n",
       "      <td>4861</td>\n",
       "      <td>Subscriber</td>\n",
       "      <td>1989.0</td>\n",
       "      <td>Male</td>\n",
       "      <td>No</td>\n",
       "      <td>30.0</td>\n",
       "      <td>1</td>\n",
       "      <td>17</td>\n",
       "      <td>1347</td>\n",
       "    </tr>\n",
       "  </tbody>\n",
       "</table>\n",
       "</div>"
      ],
      "text/plain": [
       "   duration_sec              start_time                end_time  \\\n",
       "0         80825 2019-01-31 17:57:44.613 2019-02-01 16:24:49.864   \n",
       "\n",
       "   start_station_id         start_station_name  start_station_latitude  \\\n",
       "0             229.0  Foothill Blvd at 42nd Ave               37.775745   \n",
       "\n",
       "   start_station_longitude  end_station_id         end_station_name  \\\n",
       "0              -122.213037           196.0  Grand Ave at Perkins St   \n",
       "\n",
       "   end_station_latitude  end_station_longitude  bike_id   user_type  \\\n",
       "0             37.808894             -122.25646     4861  Subscriber   \n",
       "\n",
       "   member_birth_year member_gender bike_share_for_all_trip  member_age  \\\n",
       "0             1989.0          Male                      No        30.0   \n",
       "\n",
       "   start_month  start_hour  duration_min  \n",
       "0            1          17          1347  "
      ]
     },
     "execution_count": 47,
     "metadata": {},
     "output_type": "execute_result"
    }
   ],
   "source": [
    "#Test\n",
    "fordgobike_2019_clean.head(1)"
   ]
  },
  {
   "cell_type": "markdown",
   "metadata": {},
   "source": [
    "# Analysis and visualisation"
   ]
  },
  {
   "cell_type": "markdown",
   "metadata": {},
   "source": [
    "## Univariate data exploration "
   ]
  },
  {
   "cell_type": "markdown",
   "metadata": {},
   "source": [
    "#### In this section,I will investigate distributions of individual variables like :\n",
    "\n",
    "\n",
    "   <li> -The percentages of the user type using the system .</li>\n",
    "   <li> -percentages of female and male using the system.</li>\n",
    "   <li> -the riders maximum and minimum age .</li>\n",
    "    <li> -Top 10 stations .</li>\n",
    "     <li> -The mean of trip duration in min minute .</li>\n",
    "\n",
    "\n"
   ]
  },
  {
   "cell_type": "markdown",
   "metadata": {},
   "source": [
    "### -What are the percentages of the user type for the Ford Go Bike sharing system?"
   ]
  },
  {
   "cell_type": "code",
   "execution_count": 38,
   "metadata": {},
   "outputs": [
    {
     "data": {
      "image/png": "[encoded data removed]",
      "text/plain": [
       "<Figure size 432x288 with 1 Axes>"
      ]
     },
     "metadata": {
      "needs_background": "light"
     },
     "output_type": "display_data"
    }
   ],
   "source": [
    "#order=fordgobike_2019_clean.user_type.value_counts().index\n",
    "chart=sb.countplot(data = fordgobike_2019_clean , x = 'user_type');\n",
    "labels = ['Customer', 'Subscriber']\n",
    "plt.title('User type for Ford GoBike sharing system',fontsize=12, fontweight='bold');\n",
    "# get proportion taken by most common group for derivation\n",
    "# of tick marks\n",
    "n_points = fordgobike_2019_clean.shape[0]\n",
    "max_count = fordgobike_2019_clean['user_type'].value_counts().max()\n",
    "max_prop = max_count / n_points\n",
    "# generate tick mark locations and names\n",
    "tick_props = np.arange(0, max_prop, 0.10);\n",
    "tick_names = ['{:0.2f}'.format(v) for v in tick_props]\n",
    "# create the plot\n",
    "base_color = sb.color_palette()[0]\n",
    "sb.countplot(data = fordgobike_2019_clean, x = 'user_type')\n",
    "plt.yticks(tick_props * n_points, tick_names)\n",
    "plt.ylabel('Proportion of bike trips');\n",
    "plt.xlabel('User Type');\n",
    "\n",
    "# add annotations\n",
    "n_points = fordgobike_2019_clean.shape[0]\n",
    "counts = fordgobike_2019_clean['user_type'].value_counts()\n",
    "locs, labels = plt.xticks() # get the current tick locations and labels\n",
    "\n",
    "# loop through each pair of locations and labels\n",
    "for loc, label in zip(locs, labels):\n",
    "\n",
    "    # get the text property for the label to get the correct count\n",
    "    count = counts[label.get_text()]\n",
    "    pct_string = '{:0.1f}%'.format(100*count/n_points)\n",
    "\n",
    "    # print the annotation just below the top of the bar\n",
    "    plt.text(loc, count-8, pct_string, ha = 'center', color = 'B')"
   ]
  },
  {
   "cell_type": "markdown",
   "metadata": {},
   "source": [
    "#### The bike sharing system is mainly used by subscribers with 88.6% . "
   ]
  },
  {
   "cell_type": "markdown",
   "metadata": {},
   "source": [
    "### -What are the percentages of female and male using the Ford Go Bike sharing system?"
   ]
  },
  {
   "cell_type": "code",
   "execution_count": 39,
   "metadata": {},
   "outputs": [
    {
     "data": {
      "image/png": "[encoded data removed]",
      "text/plain": [
       "<Figure size 432x288 with 1 Axes>"
      ]
     },
     "metadata": {},
     "output_type": "display_data"
    }
   ],
   "source": [
    "sorted_counts = fordgobike_2019_clean['member_gender'].value_counts()\n",
    "colors = ['blue', 'pink','green']\n",
    "plt.pie(sorted_counts, labels=sorted_counts.index, colors = colors,autopct='%1.1f%%', startangle=90)\n",
    "plt.axis('square')\n",
    "plt.suptitle('Proportion of male and female using Ford GoBike system', fontsize=12, fontweight='bold');"
   ]
  },
  {
   "cell_type": "markdown",
   "metadata": {},
   "source": [
    "#### Male use the sharing bike system more than females by 74.2%"
   ]
  },
  {
   "cell_type": "markdown",
   "metadata": {},
   "source": [
    "### -What are the maximum and minimum age using the Ford Go Bike sharing system?"
   ]
  },
  {
   "cell_type": "code",
   "execution_count": 40,
   "metadata": {},
   "outputs": [
    {
     "data": {
      "image/png": "[encoded data removed]",
      "text/plain": [
       "<Figure size 720x288 with 1 Axes>"
      ]
     },
     "metadata": {
      "needs_background": "light"
     },
     "output_type": "display_data"
    }
   ],
   "source": [
    "plt.figure(figsize = [10, 4])\n",
    "sns.boxplot(data= fordgobike_2019_clean, x='member_age');\n",
    "plt.title(\"Ages of Ford goBike riders\", fontsize=14)\n",
    "plt.xlabel(\"Age\", fontsize=12, labelpad=10);"
   ]
  },
  {
   "cell_type": "code",
   "execution_count": 41,
   "metadata": {},
   "outputs": [
    {
     "data": {
      "text/plain": [
       "count    1.003691e+06\n",
       "mean     3.432885e+01\n",
       "std      1.010330e+01\n",
       "min      1.800000e+01\n",
       "25%      2.700000e+01\n",
       "50%      3.200000e+01\n",
       "75%      3.900000e+01\n",
       "max      1.410000e+02\n",
       "Name: member_age, dtype: float64"
      ]
     },
     "execution_count": 41,
     "metadata": {},
     "output_type": "execute_result"
    }
   ],
   "source": [
    "fordgobike_2019_clean['member_age'].describe()"
   ]
  },
  {
   "cell_type": "markdown",
   "metadata": {},
   "source": [
    "#### The ages are between 18- 141 and the mean 32 ,the boxplot shows outliers above 100 which I think related to old membership  \n",
    "\n",
    "\n"
   ]
  },
  {
   "cell_type": "markdown",
   "metadata": {},
   "source": [
    "### -What is th mean trip duration?"
   ]
  },
  {
   "cell_type": "code",
   "execution_count": 63,
   "metadata": {},
   "outputs": [
    {
     "data": {
      "image/png": "[encoded data removed]",
      "text/plain": [
       "<Figure size 432x288 with 1 Axes>"
      ]
     },
     "metadata": {
      "needs_background": "light"
     },
     "output_type": "display_data"
    }
   ],
   "source": [
    "bin_edges = np.arange(0, 45, 1)\n",
    "plt.hist(data = fordgobike_2019_clean, x = 'duration_min', bins = bin_edges)\n",
    "plt.title(\"Trip duration in Minutes histogram\", y=1.03, fontsize=14, fontweight='semibold')\n",
    "plt.xlabel('Duration in min')\n",
    "plt.ylabel('count of trips ');"
   ]
  },
  {
   "cell_type": "code",
   "execution_count": 59,
   "metadata": {},
   "outputs": [
    {
     "data": {
      "text/plain": [
       "11.975429689017835"
      ]
     },
     "execution_count": 59,
     "metadata": {},
     "output_type": "execute_result"
    }
   ],
   "source": [
    "fordgobike_2019_clean['duration_min'].mean()"
   ]
  },
  {
   "cell_type": "markdown",
   "metadata": {},
   "source": [
    "#### From the histogram above most trip durations are less than 30min and usually last for 12 min."
   ]
  },
  {
   "cell_type": "markdown",
   "metadata": {},
   "source": [
    "### -What are the top 10 station ?"
   ]
  },
  {
   "cell_type": "code",
   "execution_count": 46,
   "metadata": {},
   "outputs": [
    {
     "data": {
      "text/plain": [
       "San Francisco Caltrain Station 2  (Townsend St at 4th St)    20218\n",
       "Market St at 10th St                                         19589\n",
       "Berry St at 4th St                                           16232\n",
       "San Francisco Ferry Building (Harry Bridges Plaza)           16105\n",
       "Montgomery St BART Station (Market St at 2nd St)             15354\n",
       "Powell St BART Station (Market St at 4th St)                 14989\n",
       "San Francisco Caltrain (Townsend St at 4th St)               14440\n",
       "Steuart St at Market St                                      13320\n",
       "Powell St BART Station (Market St at 5th St)                 13310\n",
       "Howard St at Beale St                                        12493\n",
       "Name: start_station_name, dtype: int64"
      ]
     },
     "execution_count": 46,
     "metadata": {},
     "output_type": "execute_result"
    }
   ],
   "source": [
    "count_name= fordgobike_2019_clean.start_station_name.value_counts().head(10)\n",
    "count_name"
   ]
  },
  {
   "cell_type": "code",
   "execution_count": 48,
   "metadata": {},
   "outputs": [
    {
     "data": {
      "image/png": "[encoded data removed]",
      "text/plain": [
       "<Figure size 1080x648 with 1 Axes>"
      ]
     },
     "metadata": {
      "needs_background": "light"
     },
     "output_type": "display_data"
    }
   ],
   "source": [
    "plt.figure(figsize=(15,9))\n",
    "plt.barh(count_name.index , count_name)\n",
    "plt.xlabel('Count', fontsize = 12)\n",
    "plt.ylabel('station name', fontsize = 12)\n",
    "plt.title('Top 10 station ',fontsize = 16)\n",
    "plt.gca().invert_yaxis()\n",
    "plt.show();\n",
    "\n"
   ]
  },
  {
   "cell_type": "markdown",
   "metadata": {},
   "source": [
    "#### The most popular station is San Francisco Caltrain Station 2(Townsend St at 4th St)  "
   ]
  },
  {
   "cell_type": "markdown",
   "metadata": {},
   "source": [
    "# Bivariate data exploration"
   ]
  },
  {
   "cell_type": "markdown",
   "metadata": {},
   "source": [
    "#### I will look at the relations between two variables.\n",
    "<li>-User age rang for each gender .</li>\n",
    "<li>-Average trip for each user type .</li>\n",
    "<li>-Monthly usage of the system per user type.</li>\n",
    "<li>-Hourly usage of the system per user type.</li>"
   ]
  },
  {
   "cell_type": "markdown",
   "metadata": {},
   "source": [
    "### -What are the age rang for each gender ?"
   ]
  },
  {
   "cell_type": "code",
   "execution_count": 142,
   "metadata": {},
   "outputs": [
    {
     "data": {
      "image/png": "[encoded data removed]",
      "text/plain": [
       "<Figure size 432x288 with 1 Axes>"
      ]
     },
     "metadata": {
      "needs_background": "light"
     },
     "output_type": "display_data"
    }
   ],
   "source": [
    "sb.boxplot(data =fordgobike_2019_clean, x = 'member_gender', y = 'member_age', color = base_color);\n",
    "plt.title(\"Average age range per gender\", fontsize=14)\n",
    "plt.xlabel(\"Age\", fontsize=12, labelpad=10);"
   ]
  },
  {
   "cell_type": "markdown",
   "metadata": {},
   "source": [
    "#### From the boxplot we can see that most of the riders are male between the age 20-40 "
   ]
  },
  {
   "cell_type": "markdown",
   "metadata": {},
   "source": [
    "### -What is the averag trip durtion for each user type ?"
   ]
  },
  {
   "cell_type": "code",
   "execution_count": 143,
   "metadata": {},
   "outputs": [
    {
     "data": {
      "image/png": "[encoded data removed]",
      "text/plain": [
       "<Figure size 936x504 with 1 Axes>"
      ]
     },
     "metadata": {
      "needs_background": "light"
     },
     "output_type": "display_data"
    }
   ],
   "source": [
    "ax = fordgobike_2019_clean.groupby('user_type')['duration_min'].mean().plot(kind='bar', figsize=(13,7))\n",
    "ax.set_title('Average trip duration per user type', fontsize=20, y=1.015)\n",
    "ax.set_ylabel('Trip duration in min', labelpad=16)\n",
    "ax.set_xlabel('User type', labelpad=16);"
   ]
  },
  {
   "cell_type": "markdown",
   "metadata": {},
   "source": [
    "#### From the bar chart , we see that the average duration time is more than 20 sec for customers and less than 15 for subscriber."
   ]
  },
  {
   "cell_type": "markdown",
   "metadata": {},
   "source": [
    "## -What are the usage of the Ford gobike sytem per user type in each month?"
   ]
  },
  {
   "cell_type": "code",
   "execution_count": 146,
   "metadata": {},
   "outputs": [
    {
     "data": {
      "image/png": "[encoded data removed]",
      "text/plain": [
       "<Figure size 720x360 with 2 Axes>"
      ]
     },
     "metadata": {
      "needs_background": "light"
     },
     "output_type": "display_data"
    }
   ],
   "source": [
    "g = sns.catplot(data=fordgobike_2019_clean, x='start_month', col=\"user_type\", kind='count',sharey = False ,color = base_color)\n",
    "g.set_axis_labels(\"Month\", \"count of trips\")\n",
    "g.set_titles(\"{col_name}\")\n",
    "g.fig.suptitle('Monthly usage of the Ford gobike sytem per user type ',y=1.10 ,fontsize=14);\n",
    "\n"
   ]
  },
  {
   "cell_type": "markdown",
   "metadata": {},
   "source": [
    "#### The bar chart shows that the most bike riders are in march for both user type ."
   ]
  },
  {
   "cell_type": "markdown",
   "metadata": {},
   "source": [
    "## -What are the usage of the Ford gobike sytem per user type in hour ?"
   ]
  },
  {
   "cell_type": "code",
   "execution_count": 144,
   "metadata": {},
   "outputs": [
    {
     "data": {
      "image/png": "[encoded data removed]",
      "text/plain": [
       "<Figure size 720x360 with 2 Axes>"
      ]
     },
     "metadata": {
      "needs_background": "light"
     },
     "output_type": "display_data"
    }
   ],
   "source": [
    "g = sns.catplot(data=fordgobike_2019_clean, x='start_hour', col=\"user_type\", kind='count',sharey = False ,color = base_color)\n",
    "g.set_axis_labels(\"Hours\", \"count of trips\")\n",
    "g.set_titles(\"{col_name}\")\n",
    "g.fig.suptitle('Hourly usage of the Ford gobike sytem per user type ',y=1.10 ,fontsize=14);"
   ]
  },
  {
   "cell_type": "markdown",
   "metadata": {},
   "source": [
    "#### The chart shows that the peak hour for customers are around 5 pm and subscribers between 8am and 5pm"
   ]
  },
  {
   "cell_type": "markdown",
   "metadata": {},
   "source": [
    "# Multivariate data exploration"
   ]
  },
  {
   "cell_type": "markdown",
   "metadata": {},
   "source": [
    "#### I will investigate three variables to get a closer result about the system , take the behave of different genders for each user type with different variables."
   ]
  },
  {
   "cell_type": "markdown",
   "metadata": {},
   "source": [
    "### -Which gender and user type are the most used of the Ford gobike system ?"
   ]
  },
  {
   "cell_type": "code",
   "execution_count": 77,
   "metadata": {},
   "outputs": [],
   "source": [
    "order =fordgobike_2019_clean.user_type.value_counts().index"
   ]
  },
  {
   "cell_type": "code",
   "execution_count": 166,
   "metadata": {},
   "outputs": [
    {
     "data": {
      "image/png": "[encoded data removed]",
      "text/plain": [
       "<Figure size 1440x360 with 1 Axes>"
      ]
     },
     "metadata": {
      "needs_background": "light"
     },
     "output_type": "display_data"
    }
   ],
   "source": [
    "plt.figure(figsize = [20, 5])\n",
    "plt.subplot(1, 2, 1)\n",
    "g = sns.countplot(data= fordgobike_2019_clean , x=\"user_type\", hue=\"member_gender\", order=order)\n",
    "g.set_xlabel('User type')\n",
    "g.set_ylabel('count of trips');\n",
    "g.set_title('Number of bike trip per user type and gender ',y=1.10 ,fontsize=14);\n"
   ]
  },
  {
   "cell_type": "markdown",
   "metadata": {},
   "source": [
    "#### From the chart we see that subscriber males are using the ford go bike system more than the other genders .\n",
    "\n",
    "\n"
   ]
  },
  {
   "cell_type": "markdown",
   "metadata": {},
   "source": [
    "### -Which month used often by the user type and  gender ?"
   ]
  },
  {
   "cell_type": "code",
   "execution_count": 147,
   "metadata": {},
   "outputs": [
    {
     "data": {
      "image/png": "[encoded data removed]",
      "text/plain": [
       "<Figure size 810.375x360 with 2 Axes>"
      ]
     },
     "metadata": {
      "needs_background": "light"
     },
     "output_type": "display_data"
    }
   ],
   "source": [
    "g = sns.catplot(data=fordgobike_2019_clean, x='start_month', col=\"user_type\", hue=\"member_gender\" , kind='count' ,sharey = False )\n",
    "g.set_axis_labels('Month', 'count of trips')\n",
    "g.set_titles(\"{col_name}\")\n",
    "g.fig.suptitle('Monthly usage of the Ford gobike sytem per user type and gender ',y=1.10 ,fontsize=14);"
   ]
  },
  {
   "cell_type": "markdown",
   "metadata": {},
   "source": [
    "#### The system is used by males subscribers in march"
   ]
  },
  {
   "cell_type": "markdown",
   "metadata": {},
   "source": [
    "### -What is the peak hour for the Ford gobike sytem per user type and gender?"
   ]
  },
  {
   "cell_type": "code",
   "execution_count": 90,
   "metadata": {},
   "outputs": [
    {
     "data": {
      "image/png": "[encoded data removed]",
      "text/plain": [
       "<Figure size 810.375x360 with 2 Axes>"
      ]
     },
     "metadata": {
      "needs_background": "light"
     },
     "output_type": "display_data"
    }
   ],
   "source": [
    "g = sns.catplot(data=fordgobike_2019_clean, x='start_hour', col=\"user_type\", hue=\"member_gender\" , kind='count',sharey = False  )\n",
    "g.set_axis_labels('Hours', 'count of trips')\n",
    "g.set_titles(\"{col_name}\")\n",
    "g.fig.suptitle('Hourly usage of the Ford gobike sytem per user type and gender ',y=1.10 ,fontsize=14);"
   ]
  },
  {
   "cell_type": "markdown",
   "metadata": {},
   "source": [
    "#### The chart shows that the peak hour for customers are around 5 pm and subscribers between 8am and 5pm and usied mostly by males ."
   ]
  },
  {
   "cell_type": "markdown",
   "metadata": {},
   "source": [
    "### -What are the rang of age for the Ford gobike system riders per user type and gender?"
   ]
  },
  {
   "cell_type": "code",
   "execution_count": 112,
   "metadata": {},
   "outputs": [
    {
     "data": {
      "image/png": "[encoded data removed]",
      "text/plain": [
       "<Figure size 450.375x360 with 1 Axes>"
      ]
     },
     "metadata": {
      "needs_background": "light"
     },
     "output_type": "display_data"
    }
   ],
   "source": [
    "data = fordgobike_2019_clean.query('member_age < 60')\n",
    "g = sb.catplot(data= data, x='user_type', y='member_age' , hue='member_gender' , kind='violin' );\n",
    "g.set_axis_labels(\"User type\", \"Age\")\n",
    "g._legend.set_title('Gender')\n",
    "g.fig.suptitle('Rider ages per user type and gender', y=1.10, fontsize=16);"
   ]
  },
  {
   "cell_type": "markdown",
   "metadata": {},
   "source": [
    "#### The average age of all user type and genders is between the age 20-40."
   ]
  },
  {
   "cell_type": "markdown",
   "metadata": {},
   "source": [
    "### -What  is the averag trip duration per usertype and gender ?"
   ]
  },
  {
   "cell_type": "code",
   "execution_count": 104,
   "metadata": {},
   "outputs": [
    {
     "data": {
      "image/png": "[encoded data removed]",
      "text/plain": [
       "<Figure size 432x288 with 2 Axes>"
      ]
     },
     "metadata": {
      "needs_background": "light"
     },
     "output_type": "display_data"
    }
   ],
   "source": [
    "means =fordgobike_2019_clean.groupby(['user_type', 'member_gender']).mean()['duration_min']\n",
    "means = means.reset_index(name = 'bike_id')\n",
    "means = means.pivot(index = 'user_type', columns = 'member_gender',)\n",
    "sb.heatmap(means, annot = True, fmt = '.3f',cbar_kws = {'label' : 'mean(duration_min)'});\n"
   ]
  },
  {
   "cell_type": "markdown",
   "metadata": {},
   "source": [
    "#### From the heatmap ,shows that both genders take the same trip duration there are no big difference in for the subscribers and for the customer there's is a little different by 5 minutes between genders ."
   ]
  },
  {
   "cell_type": "markdown",
   "metadata": {},
   "source": [
    "# Conclusion"
   ]
  },
  {
   "cell_type": "markdown",
   "metadata": {},
   "source": [
    "### From all kind of ploting , we got that the Ford gobike sytem works from San Francisco to rint bikes for two types of clients using the system: Subscribers and Customers.\n",
    "The behavef of user types : \n",
    "<li> - Subscribers are the main users :</li> \n",
    "Most bike rides are around the peak hours 8-9am and 5-6pm ,mostly rent in march and the most gender are the adult males there age around 20-40\n",
    "<li>-Customers are usually tourists ,not often use the system : </li> \n",
    "Mostly they uesd ths system around 8-9am and 5-6pm ,in march and the most are also adult males there age around 20-40.\n",
    "    "
   ]
  },
  {
   "cell_type": "markdown",
   "metadata": {},
   "source": [
    "### References"
   ]
  },
  {
   "cell_type": "markdown",
   "metadata": {},
   "source": [
    "https://www.lyft.com/bikes/bay-wheels/system-data"
   ]
  },
  {
   "cell_type": "markdown",
   "metadata": {},
   "source": [
    "https://seaborn.pydata.org/generated/seaborn.catplot.html"
   ]
  },
  {
   "cell_type": "markdown",
   "metadata": {},
   "source": [
    "https://seaborn.pydata.org/tutorial/categorical.html"
   ]
  },
  {
   "cell_type": "markdown",
   "metadata": {},
   "source": [
    "https://matplotlib.org/3.1.0/api/_as_gen/matplotlib.pyplot.hist.html"
   ]
  },
  {
   "cell_type": "markdown",
   "metadata": {},
   "source": [
    "https://stackoverflow.com/questions/44118395/python-pandas-convert-seconds-to-time-hhmm"
   ]
  }
 ],
 "metadata": {
  "kernelspec": {
   "display_name": "Python 3",
   "language": "python",
   "name": "python3"
  },
  "language_info": {
   "codemirror_mode": {
    "name": "ipython",
    "version": 3
   },
   "file_extension": ".py",
   "mimetype": "text/x-python",
   "name": "python",
   "nbconvert_exporter": "python",
   "pygments_lexer": "ipython3",
   "version": "3.7.1"
  }
 },
 "nbformat": 4,
 "nbformat_minor": 2
}
